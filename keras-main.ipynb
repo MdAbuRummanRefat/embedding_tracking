{
 "cells": [
  {
   "cell_type": "code",
   "execution_count": 1,
   "metadata": {},
   "outputs": [
    {
     "name": "stderr",
     "output_type": "stream",
     "text": [
      "Using TensorFlow backend.\n"
     ]
    }
   ],
   "source": [
    "import tensorflow as tf\n",
    "import keras.backend as K"
   ]
  },
  {
   "cell_type": "code",
   "execution_count": 7,
   "metadata": {},
   "outputs": [],
   "source": [
    "a = K.constant([[[1, 2], [3, 4]]])\n",
    "b = K.flatten(a)\n",
    "c = tf.concat((b, b), axis = 0)"
   ]
  },
  {
   "cell_type": "code",
   "execution_count": 8,
   "metadata": {},
   "outputs": [
    {
     "data": {
      "text/plain": [
       "<tf.Tensor 'concat_1:0' shape=(8,) dtype=float32>"
      ]
     },
     "execution_count": 8,
     "metadata": {},
     "output_type": "execute_result"
    }
   ],
   "source": [
    "c"
   ]
  },
  {
   "cell_type": "code",
   "execution_count": null,
   "metadata": {},
   "outputs": [],
   "source": [
    "import matplotlib.pyplot as plt\n",
    "%matplotlib inline\n",
    "import numpy as np\n",
    "import math\n",
    "from keras.optimizers import Adam\n",
    "from datagen import SequenceDataGenerator\n",
    "from embedding_model import SequenceEmbeddingModel, sequence_loss_with_params\n",
    "from params import Params\n",
    "from IPython.display import clear_output\n",
    "from utils import *\n",
    "from evaluate import sequence_eval"
   ]
  },
  {
   "cell_type": "code",
   "execution_count": null,
   "metadata": {},
   "outputs": [],
   "source": [
    "EPOCHS = 100\n",
    "LEARNING_RATE = 1e-4\n",
    "nan = float('nan')"
   ]
  },
  {
   "cell_type": "code",
   "execution_count": null,
   "metadata": {},
   "outputs": [],
   "source": [
    "params = Params()\n",
    "\n",
    "params.EMBEDDING_DIM            = 6\n",
    "params.BATCH_SIZE               = 1\n",
    "params.NUM_SHAPE                = 3\n",
    "params.NUM_CLASSES              = params.NUM_SHAPE + 1\n",
    "params.NUM_FILTER               = [256, 256, 128]\n",
    "params.ETH_MEAN_SHIFT_THRESHOLD = 1.5\n",
    "params.DELTA_VAR                = 0.5\n",
    "params.DELTA_D                  = 1.5\n",
    "params.IMG_SIZE                 = 256\n",
    "params.OUTPUT_SIZE              = 64\n",
    "params.SEQUENCE_LEN             = 20\n",
    "params.BACKBONE                 = 'xception'\n",
    "params.TASK                     = 'sequence'\n",
    "params.COLORS                   = np.random.random((params.NUM_SHAPE+1, 3))"
   ]
  },
  {
   "cell_type": "code",
   "execution_count": null,
   "metadata": {},
   "outputs": [],
   "source": [
    "model = SequenceEmbeddingModel(params)\n",
    "optim = Adam(lr = LEARNING_RATE)\n",
    "loss_function = sequence_loss_with_params(params)\n",
    "model.compile(optim, loss = loss_function)\n",
    "clear_output()"
   ]
  },
  {
   "cell_type": "code",
   "execution_count": null,
   "metadata": {},
   "outputs": [],
   "source": [
    "dg = SequenceDataGenerator(\n",
    "    num_shape    = params.NUM_SHAPE, \n",
    "    image_size   = params.IMG_SIZE,\n",
    "    sequence_len = params.SEQUENCE_LEN)\n",
    "step = 0\n",
    "loss_history = []"
   ]
  },
  {
   "cell_type": "code",
   "execution_count": null,
   "metadata": {},
   "outputs": [],
   "source": [
    "def fit_xy(model, x, y, loss_history, step):\n",
    "    history = model.fit(x, y, batch_size = 1, verbose = False)\n",
    "    if math.isnan(history.history['loss'][-1]):\n",
    "        return [1, 0]\n",
    "    loss_history.append(history.history['loss'][-1])\n",
    "    if step % 100 == 99:\n",
    "        clear_output()\n",
    "        visualize_history(loss_history, 'loss')\n",
    "    step += 1\n",
    "    update_progress((step % 100) / 100)\n",
    "    return loss_history, step"
   ]
  },
  {
   "cell_type": "code",
   "execution_count": null,
   "metadata": {},
   "outputs": [],
   "source": [
    "class_num     = params.NUM_CLASSES\n",
    "embedding_dim = params.EMBEDDING_DIM\n",
    "\n",
    "exit = False\n",
    "for epoch in range(EPOCHS):\n",
    "    if exit:\n",
    "        break\n",
    "    for _ in range(100):\n",
    "        if exit:\n",
    "            break\n",
    "        sequence = dg.get_sequence()\n",
    "        image_info = sequence[0]\n",
    "        x, y = prep_half_pair_for_model(image_info, params)\n",
    "        loss_history, step = fit_xy(model, x, y, loss_history, params, dg, step)\n",
    "        for i in range(1, len(sequence)):\n",
    "            prev_image_info = sequence[i-1]\n",
    "            image_info = sequence[i]\n",
    "            x, y = prep_half_pair_for_model(prev_image_info, params)\n",
    "            outputs = np.squeeze(model.predict(x))\n",
    "            emb = outputs[:, :, (class_num):(class_num + embedding_dim)]\n",
    "            x, y = prep_pair_for_model(image_info, params, prev_image_info, emb)\n",
    "            a, b = fit_xy(model, x, y, loss_history, params, dg, step)\n",
    "            if b:\n",
    "                loss_history, step = a, b\n",
    "            else:\n",
    "                exit = True\n",
    "                break\n",
    "        sequence = dg.get_sequence()\n",
    "        sequence_eval(model, sequence, params)\n",
    "    if not exit:\n",
    "        model.save('sequence.h5')"
   ]
  },
  {
   "cell_type": "code",
   "execution_count": null,
   "metadata": {},
   "outputs": [],
   "source": []
  },
  {
   "cell_type": "code",
   "execution_count": null,
   "metadata": {},
   "outputs": [],
   "source": []
  },
  {
   "cell_type": "code",
   "execution_count": null,
   "metadata": {},
   "outputs": [],
   "source": []
  },
  {
   "cell_type": "code",
   "execution_count": null,
   "metadata": {},
   "outputs": [],
   "source": []
  },
  {
   "cell_type": "code",
   "execution_count": null,
   "metadata": {},
   "outputs": [],
   "source": []
  },
  {
   "cell_type": "code",
   "execution_count": null,
   "metadata": {},
   "outputs": [],
   "source": []
  },
  {
   "cell_type": "code",
   "execution_count": null,
   "metadata": {},
   "outputs": [],
   "source": []
  },
  {
   "cell_type": "code",
   "execution_count": null,
   "metadata": {},
   "outputs": [],
   "source": []
  },
  {
   "cell_type": "code",
   "execution_count": null,
   "metadata": {},
   "outputs": [],
   "source": []
  },
  {
   "cell_type": "code",
   "execution_count": null,
   "metadata": {},
   "outputs": [],
   "source": []
  },
  {
   "cell_type": "code",
   "execution_count": null,
   "metadata": {},
   "outputs": [],
   "source": []
  },
  {
   "cell_type": "code",
   "execution_count": null,
   "metadata": {},
   "outputs": [],
   "source": []
  },
  {
   "cell_type": "code",
   "execution_count": null,
   "metadata": {},
   "outputs": [],
   "source": []
  },
  {
   "cell_type": "code",
   "execution_count": null,
   "metadata": {},
   "outputs": [],
   "source": []
  },
  {
   "cell_type": "code",
   "execution_count": null,
   "metadata": {},
   "outputs": [],
   "source": []
  }
 ],
 "metadata": {
  "kernelspec": {
   "display_name": "Python 3",
   "language": "python",
   "name": "python3"
  },
  "language_info": {
   "codemirror_mode": {
    "name": "ipython",
    "version": 3
   },
   "file_extension": ".py",
   "mimetype": "text/x-python",
   "name": "python",
   "nbconvert_exporter": "python",
   "pygments_lexer": "ipython3",
   "version": "3.7.3"
  }
 },
 "nbformat": 4,
 "nbformat_minor": 4
}
