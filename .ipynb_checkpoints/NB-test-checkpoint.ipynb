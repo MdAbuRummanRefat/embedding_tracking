{
 "cells": [
  {
   "cell_type": "code",
   "execution_count": 1,
   "metadata": {},
   "outputs": [],
   "source": [
    "from IPython.display import clear_output\n",
    "from matplotlib import pyplot as plt\n",
    "%matplotlib inline\n",
    "import numpy as np\n",
    "from params import Params\n",
    "from datagen import SequenceDataGenerator\n",
    "import dataset\n",
    "from utils import *"
   ]
  },
  {
   "cell_type": "code",
   "execution_count": 2,
   "metadata": {},
   "outputs": [],
   "source": [
    "params = Params()\n",
    "\n",
    "params.EMBEDDING_DIM            = 24\n",
    "params.BATCH_SIZE               = 1\n",
    "params.NUM_SHAPE                = 6\n",
    "params.NUM_CLASSES              = 4 # (3 shapes + 1 background)\n",
    "params.NUM_FILTER               = [256, 128]\n",
    "params.ETH_MEAN_SHIFT_THRESHOLD = 1.5\n",
    "params.DELTA_VAR                = 0.5\n",
    "params.DELTA_D                  = 1.5\n",
    "params.IMG_SIZE                 = 256\n",
    "params.OUTPUT_SIZE              = 64\n",
    "params.SEQUENCE_LEN             = 100\n",
    "params.TRAIN_NUM_SEQ            = 500\n",
    "params.VAL_NUM_SEQ              = 5\n",
    "params.TEST_NUM_SEQ             = 10\n",
    "params.RANDOM_SIZE              = True\n",
    "params.OPTICAL_FLOW_WEIGHT      = 0\n",
    "params.BACKBONE                 = 'xception'\n",
    "params.GITHUB_DIR               = 'C:/Users/yliu60/Documents/GitHub'\n",
    "params.LEARNING_RATE            = 1e-4\n",
    "params.EPOCHS                   = 20\n",
    "params.EPOCHS_PER_SAVE          = 1\n",
    "params.STEPS_PER_VISUAL         = 1000\n",
    "params.ROTATE_SHAPES            = True\n",
    "params.FEATURE_STRING           = f'{params.ROTATE_SHAPES}_{params.NUM_SHAPE}_shapes'\n",
    "params.MODEL_SAVE_DIR           = f'model/{params.FEATURE_STRING}'\n",
    "params.TRAIN_SET_PATH           = f'dataset/{params.FEATURE_STRING}/train'\n",
    "params.VAL_SET_PATH             = f'dataset/{params.FEATURE_STRING}/val'\n",
    "params.TEST_SET_PATH            = f'dataset/{params.FEATURE_STRING}/test'\n",
    "params.IOU_THRESHOLD            = 0.5\n",
    "params.MASK_AREA_THRESHOLD      = 20"
   ]
  },
  {
   "cell_type": "code",
   "execution_count": 3,
   "metadata": {},
   "outputs": [
    {
     "name": "stdout",
     "output_type": "stream",
     "text": [
      " Progress: [#########################] 99.8% "
     ]
    }
   ],
   "source": [
    "train_seq_ds = dataset.SequenceDataset()\n",
    "train_seq_ds.gen_dataset(params, 'train', seed = 1)"
   ]
  },
  {
   "cell_type": "code",
   "execution_count": 4,
   "metadata": {},
   "outputs": [
    {
     "name": "stdout",
     "output_type": "stream",
     "text": [
      " Progress: [####################-----] 80.0% "
     ]
    }
   ],
   "source": [
    "val_seq_ds = dataset.SequenceDataset()\n",
    "val_seq_ds.gen_dataset(params, 'val', seed = 2)"
   ]
  },
  {
   "cell_type": "code",
   "execution_count": 5,
   "metadata": {},
   "outputs": [
    {
     "name": "stdout",
     "output_type": "stream",
     "text": [
      " Progress: [######################---] 90.0% "
     ]
    }
   ],
   "source": [
    "test_seq_ds = dataset.SequenceDataset()\n",
    "test_seq_ds.gen_dataset(params, 'test', seed = 3)"
   ]
  },
  {
   "cell_type": "code",
   "execution_count": null,
   "metadata": {},
   "outputs": [],
   "source": [
    "dataset.fill_image_list(params)\n",
    "dataset.gen_ccmcpe(params)"
   ]
  },
  {
   "cell_type": "code",
   "execution_count": null,
   "metadata": {},
   "outputs": [],
   "source": []
  },
  {
   "cell_type": "code",
   "execution_count": null,
   "metadata": {},
   "outputs": [],
   "source": [
    "import cv2\n",
    "img = cv2.imread('C:/Users/yliu60/Documents/GitHub/embedding_tracking/dataset2/6_shapes/test/seq_0/images/00001.png')\n",
    "x1, y1, w, h = 83,65,67,65\n",
    "x1, y1, x2, y2 = x1, y1, x1 + w, y1 + h\n",
    "cv2.rectangle(img, (x1, y1), (x2, y2), (255,0,0), 2)\n",
    "plt.imshow(img)"
   ]
  },
  {
   "cell_type": "code",
   "execution_count": null,
   "metadata": {},
   "outputs": [],
   "source": [
    "class Target:\n",
    "    def __init__(self, bbox, id):\n",
    "        self.bbox = bbox\n",
    "        self.id = id"
   ]
  },
  {
   "cell_type": "code",
   "execution_count": null,
   "metadata": {},
   "outputs": [],
   "source": [
    "dt_result_txt_path = 'C:/Users/yliu60/Documents/GitHub/Towards-Realtime-MOT/temp/0/results.txt'\n",
    "dt_sequence = []\n",
    "frame = []\n",
    "current_frame_num = 2\n",
    "with open(dt_result_txt_path) as f:\n",
    "    content = f.readlines()\n",
    "for line in content:\n",
    "    data_str = line.split(',')\n",
    "    data = [float(x) for x in data_str[:-1]]\n",
    "    frame_num = data[0]\n",
    "    # txt output format: {frame},{id},{x1},{y1},{w},{h}\n",
    "    id = data[1]\n",
    "    bbox = data[2:6]\n",
    "    x1, y1, w, h = bbox\n",
    "    x2, y2 = x1 + w, y1 + h\n",
    "    # target bbox format: bottom left, top right\n",
    "    new_bbox = [x1, y2, x2, y1]\n",
    "    if frame_num != current_frame_num:\n",
    "        dt_sequence.append(frame)\n",
    "        frame = []\n",
    "        current_frame_num = frame_num\n",
    "    target = Target(new_bbox, id)\n",
    "    frame.append(target)\n",
    "dt_sequence.append(frame)"
   ]
  },
  {
   "cell_type": "code",
   "execution_count": null,
   "metadata": {},
   "outputs": [],
   "source": [
    "dt_result_txt_path = f'temp/{i}/results.txt'\n",
    "dt_sequence = evaluator.gen_dt_target_sequence(dt_result_txt_path)\n",
    "gt_sequence_path = f'C:/Users/yliu60/Documents/GitHub/embedding_tracking/dataset/6_shapes/test/seq_{i}/sequence.pickle'\n",
    "with open(gt_sequence_path, 'rb') as handle:\n",
    "    sequence = pickle.load(handle)"
   ]
  },
  {
   "cell_type": "code",
   "execution_count": null,
   "metadata": {},
   "outputs": [],
   "source": []
  },
  {
   "cell_type": "code",
   "execution_count": null,
   "metadata": {},
   "outputs": [],
   "source": []
  },
  {
   "cell_type": "code",
   "execution_count": null,
   "metadata": {},
   "outputs": [],
   "source": []
  },
  {
   "cell_type": "code",
   "execution_count": null,
   "metadata": {},
   "outputs": [],
   "source": []
  },
  {
   "cell_type": "code",
   "execution_count": null,
   "metadata": {},
   "outputs": [],
   "source": []
  },
  {
   "cell_type": "code",
   "execution_count": null,
   "metadata": {},
   "outputs": [],
   "source": []
  },
  {
   "cell_type": "code",
   "execution_count": null,
   "metadata": {},
   "outputs": [],
   "source": [
    "def bbox_iou(boxA, boxB):\n",
    "    # determine the (x, y)-coordinates of the intersection rectangle\n",
    "    xA = max(boxA[0], boxB[0])\n",
    "    yA = max(boxA[1], boxB[1])\n",
    "    xB = min(boxA[2], boxB[2])\n",
    "    yB = min(boxA[3], boxB[3])\n",
    "\n",
    "    # compute the area of intersection rectangle\n",
    "    interArea = abs(max((xB - xA, 0)) * max((yB - yA), 0))\n",
    "    if interArea == 0:\n",
    "        return 0\n",
    "    # compute the area of both the prediction and ground-truth\n",
    "    # rectangles\n",
    "    boxAArea = abs((boxA[2] - boxA[0]) * (boxA[3] - boxA[1]))\n",
    "    boxBArea = abs((boxB[2] - boxB[0]) * (boxB[3] - boxB[1]))\n",
    "\n",
    "    # compute the intersection over union by taking the intersection\n",
    "    # area and dividing it by the sum of prediction + ground-truth\n",
    "    # areas - the interesection area\n",
    "    iou = interArea / float(boxAArea + boxBArea - interArea)\n",
    "\n",
    "    # return the intersection over union value\n",
    "    return iou"
   ]
  },
  {
   "cell_type": "code",
   "execution_count": null,
   "metadata": {},
   "outputs": [],
   "source": []
  },
  {
   "cell_type": "code",
   "execution_count": null,
   "metadata": {},
   "outputs": [],
   "source": [
    "bbox1 = [1, 1, 4, 4]\n",
    "bbox2 = [2, 2, 3, 3]\n",
    "bbox_iou(bbox1, bbox2)"
   ]
  },
  {
   "cell_type": "code",
   "execution_count": null,
   "metadata": {},
   "outputs": [],
   "source": [
    "1/7"
   ]
  },
  {
   "cell_type": "code",
   "execution_count": null,
   "metadata": {},
   "outputs": [],
   "source": []
  },
  {
   "cell_type": "code",
   "execution_count": null,
   "metadata": {},
   "outputs": [],
   "source": []
  },
  {
   "cell_type": "code",
   "execution_count": null,
   "metadata": {},
   "outputs": [],
   "source": []
  },
  {
   "cell_type": "code",
   "execution_count": null,
   "metadata": {},
   "outputs": [],
   "source": []
  },
  {
   "cell_type": "code",
   "execution_count": null,
   "metadata": {},
   "outputs": [],
   "source": []
  },
  {
   "cell_type": "code",
   "execution_count": null,
   "metadata": {},
   "outputs": [],
   "source": []
  },
  {
   "cell_type": "code",
   "execution_count": null,
   "metadata": {},
   "outputs": [],
   "source": []
  },
  {
   "cell_type": "code",
   "execution_count": null,
   "metadata": {},
   "outputs": [],
   "source": []
  },
  {
   "cell_type": "code",
   "execution_count": null,
   "metadata": {},
   "outputs": [],
   "source": [
    "import numpy as np\n",
    "import random"
   ]
  },
  {
   "cell_type": "code",
   "execution_count": null,
   "metadata": {},
   "outputs": [],
   "source": [
    "np.random.seed(1)\n",
    "random.seed(1)\n",
    "print(np.random.randint(0, 9))\n",
    "print(random.randint(0, 8))\n",
    "print(np.random.randint(0, 9))\n",
    "print(random.randint(0, 8))"
   ]
  },
  {
   "cell_type": "code",
   "execution_count": null,
   "metadata": {},
   "outputs": [],
   "source": [
    "np.random.seed(1)\n",
    "random.seed(1)\n",
    "print(np.random.randint(0, 9))\n",
    "print(np.random.randint(0, 9))"
   ]
  },
  {
   "cell_type": "code",
   "execution_count": null,
   "metadata": {},
   "outputs": [],
   "source": [
    "sequence = dg.get_sequence()"
   ]
  },
  {
   "cell_type": "code",
   "execution_count": null,
   "metadata": {},
   "outputs": [],
   "source": [
    "import pickle"
   ]
  },
  {
   "cell_type": "code",
   "execution_count": null,
   "metadata": {},
   "outputs": [],
   "source": [
    "with open('test.pickle', 'wb') as handle:\n",
    "    pickle.dump(sequence, handle)"
   ]
  },
  {
   "cell_type": "code",
   "execution_count": null,
   "metadata": {},
   "outputs": [],
   "source": [
    "with open('test.pickle', 'rb') as handle:\n",
    "    b = pickle.load(handle)"
   ]
  },
  {
   "cell_type": "code",
   "execution_count": null,
   "metadata": {},
   "outputs": [],
   "source": [
    "info = sequence[22]\n",
    "\n",
    "plt.figure()\n",
    "plt.imshow(info['image'].astype(np.float32))\n",
    "plt.title('image')\n",
    "\n",
    "plt.figure()\n",
    "plt.imshow(info['instance_mask'], vmin = 0, vmax = params.NUM_SHAPE)\n",
    "plt.title('instance_mask')\n",
    "\n",
    "plt.figure()\n",
    "plt.imshow(info['occ_instance_mask'], vmin = 0, vmax = params.NUM_SHAPE)\n",
    "plt.title('occ_instance_mask')\n",
    "\n",
    "plt.figure()\n",
    "plt.imshow(info['class_mask'], vmin = 0, vmax = 3)\n",
    "plt.title('class_mask')\n",
    "\n",
    "plt.figure()\n",
    "plt.imshow(info['occ_class_mask'], vmin = 0, vmax = 3)\n",
    "plt.title('occ_class_mask')\n",
    "\n",
    "for mask in info['full_masks']:\n",
    "    plt.figure()\n",
    "    plt.imshow(mask)\n",
    "    plt.title('full_mask')"
   ]
  },
  {
   "cell_type": "code",
   "execution_count": null,
   "metadata": {},
   "outputs": [],
   "source": []
  },
  {
   "cell_type": "code",
   "execution_count": null,
   "metadata": {},
   "outputs": [],
   "source": []
  },
  {
   "cell_type": "code",
   "execution_count": null,
   "metadata": {},
   "outputs": [],
   "source": [
    "bboxes = [\n",
    "    [0.51171875, 0.69140625, 0.2265625, 0.2265625],\n",
    "    [0.658203125, 0.20703125, 0.27734375, 0.265625],\n",
    "    [0.955078125, 0.62890625, 0.08203125, 0.203125],\n",
    "    [0.072265625, 0.275390625, 0.14453125, 0.15234375],\n",
    "    [0.521484375, 0.533203125, 0.23046875, 0.24609375],\n",
    "    [0.5078125, 0.890625, 0.2578125, 0.2109375]\n",
    "]"
   ]
  },
  {
   "cell_type": "code",
   "execution_count": null,
   "metadata": {},
   "outputs": [],
   "source": [
    "img = cv2.imread(r'C:\\Users\\yliu60\\Documents\\GitHub\\embedding_tracking\\dataset\\6_shapes\\train\\seq_0\\image\\00000.png')\n",
    "for bbox in bboxes:\n",
    "    bbox = np.array(bbox)\n",
    "    bbox *= params.IMG_SIZE\n",
    "    x_center, y_center, width, height = bbox\n",
    "    x1 = int(x_center - 0.5 * width)\n",
    "    y1 = int(y_center - 0.5 * height)\n",
    "    x2 = int(x_center + 0.5 * width)\n",
    "    y2 = int(y_center + 0.5 * height)\n",
    "    cv2.rectangle(img, (x1, y1), (x2, y2), (255,0,0), 2)\n",
    "plt.imshow(img)"
   ]
  },
  {
   "cell_type": "code",
   "execution_count": null,
   "metadata": {},
   "outputs": [],
   "source": []
  }
 ],
 "metadata": {
  "kernelspec": {
   "display_name": "Python 3",
   "language": "python",
   "name": "python3"
  },
  "language_info": {
   "codemirror_mode": {
    "name": "ipython",
    "version": 3
   },
   "file_extension": ".py",
   "mimetype": "text/x-python",
   "name": "python",
   "nbconvert_exporter": "python",
   "pygments_lexer": "ipython3",
   "version": "3.7.3"
  }
 },
 "nbformat": 4,
 "nbformat_minor": 4
}
