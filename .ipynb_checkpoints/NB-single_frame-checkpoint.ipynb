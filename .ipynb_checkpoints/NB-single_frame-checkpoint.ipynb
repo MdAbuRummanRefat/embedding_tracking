{
 "cells": [
  {
   "cell_type": "code",
   "execution_count": null,
   "metadata": {},
   "outputs": [],
   "source": [
    "import os\n",
    "import time\n",
    "\n",
    "import keras\n",
    "import numpy as np\n",
    "from IPython.display import clear_output\n",
    "\n",
    "import datagen\n",
    "import dataset\n",
    "import embedding_model\n",
    "import eval\n",
    "import inference\n",
    "import loss_functions\n",
    "import postprocessing\n",
    "import utils\n",
    "import visual\n",
    "from params import Params"
   ]
  },
  {
   "cell_type": "code",
   "execution_count": null,
   "metadata": {},
   "outputs": [],
   "source": [
    "params = Params()\n",
    "\n",
    "params.EMBEDDING_DIM            = 24\n",
    "params.BATCH_SIZE               = 1\n",
    "params.NUM_SHAPE                = 6\n",
    "params.NUM_CLASSES              = 4 # (3 shapes + 1 background)\n",
    "params.NUM_FILTER               = [256, 128]\n",
    "params.ETH_MEAN_SHIFT_THRESHOLD = 1.5\n",
    "params.DELTA_VAR                = 0.5\n",
    "params.DELTA_D                  = 1.5\n",
    "params.IMG_SIZE                 = 256\n",
    "params.OUTPUT_SIZE              = 64\n",
    "params.EPOCHS                   = 10\n",
    "params.STEPS                    = 1000\n",
    "params.STEPS_PER_VISUAL         = 100\n",
    "\n",
    "model = embedding_model.ImageEmbeddingModel(params)\n",
    "optim = keras.optimizers.Adam(lr = 1e-4)\n",
    "loss_function = loss_functions.single_frame_loss_with_params(params)\n",
    "model.compile(optim, loss = loss_function)"
   ]
  },
  {
   "cell_type": "code",
   "execution_count": null,
   "metadata": {},
   "outputs": [],
   "source": [
    "generator = datagen.ImageDataGenerator(params.NUM_SHAPE, params.IMG_SIZE)\n",
    "step = 0\n",
    "starting_time = time.time()\n",
    "loss_history = []\n",
    "for epoch in range(params.EPOCHS):\n",
    "    for i in range(params.STEPS):\n",
    "        step += 1\n",
    "        image_info = generator.get_image()\n",
    "        x, y = utils.prep_single_frame(image_info)\n",
    "        history = model.fit(x, y, batch_size = 1, verbose = False)\n",
    "        latest_loss = history.history['loss'][-1]\n",
    "        loss_history.append(latest_loss)\n",
    "        if step % params.STEPS_PER_VISUAL == 0:\n",
    "            \n",
    "            clear_output(wait=True)\n",
    "            elapsed_time = int(time.time() - starting_time)\n",
    "            utils.visualize_history(\n",
    "                self.loss_history, \n",
    "                f'loss, epoch: {epoch}, total step: {step}, total time: \\\n",
    "                    {elapsed_time}')\n",
    "            image_info = generator.get_image()\n",
    "            x, y = utils.prep_single_frame(image_info)\n",
    "            single_eval(model, x, y, params)"
   ]
  },
  {
   "cell_type": "code",
   "execution_count": null,
   "metadata": {},
   "outputs": [],
   "source": []
  },
  {
   "cell_type": "code",
   "execution_count": null,
   "metadata": {},
   "outputs": [],
   "source": []
  },
  {
   "cell_type": "code",
   "execution_count": null,
   "metadata": {},
   "outputs": [],
   "source": []
  },
  {
   "cell_type": "code",
   "execution_count": null,
   "metadata": {},
   "outputs": [],
   "source": []
  },
  {
   "cell_type": "code",
   "execution_count": null,
   "metadata": {},
   "outputs": [],
   "source": []
  },
  {
   "cell_type": "code",
   "execution_count": null,
   "metadata": {},
   "outputs": [],
   "source": []
  }
 ],
 "metadata": {
  "kernelspec": {
   "display_name": "Python 3",
   "language": "python",
   "name": "python3"
  },
  "language_info": {
   "codemirror_mode": {
    "name": "ipython",
    "version": 3
   },
   "file_extension": ".py",
   "mimetype": "text/x-python",
   "name": "python",
   "nbconvert_exporter": "python",
   "pygments_lexer": "ipython3",
   "version": "3.7.3"
  }
 },
 "nbformat": 4,
 "nbformat_minor": 4
}
