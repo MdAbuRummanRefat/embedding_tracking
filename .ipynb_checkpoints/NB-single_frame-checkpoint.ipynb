{
 "cells": [
  {
   "cell_type": "code",
   "execution_count": 1,
   "metadata": {},
   "outputs": [
    {
     "name": "stderr",
     "output_type": "stream",
     "text": [
      "Using TensorFlow backend.\n"
     ]
    }
   ],
   "source": [
    "import os\n",
    "import time\n",
    "\n",
    "import keras\n",
    "import numpy as np\n",
    "from IPython.display import clear_output\n",
    "\n",
    "import datagen\n",
    "import dataset\n",
    "import embedding_model\n",
    "import eval\n",
    "import inference\n",
    "import loss_functions\n",
    "import postprocessing\n",
    "import utils\n",
    "import visual\n",
    "from params import Params\n",
    "from torch.utils import data"
   ]
  },
  {
   "cell_type": "code",
   "execution_count": 2,
   "metadata": {},
   "outputs": [
    {
     "name": "stdout",
     "output_type": "stream",
     "text": [
      "WARNING:tensorflow:From C:\\Users\\yliu60\\AppData\\Local\\Continuum\\anaconda3\\lib\\site-packages\\keras\\backend\\tensorflow_backend.py:4074: The name tf.nn.avg_pool is deprecated. Please use tf.nn.avg_pool2d instead.\n",
      "\n",
      "WARNING:tensorflow:From C:\\Users\\yliu60\\Documents\\GitHub\\embedding_tracking\\deeplabv3\\model.py:87: The name tf.image.resize_bilinear is deprecated. Please use tf.compat.v1.image.resize_bilinear instead.\n",
      "\n",
      "WARNING:tensorflow:From C:\\Users\\yliu60\\AppData\\Local\\Continuum\\anaconda3\\lib\\site-packages\\tensorflow\\python\\ops\\array_ops.py:1354: add_dispatch_support.<locals>.wrapper (from tensorflow.python.ops.array_ops) is deprecated and will be removed in a future version.\n",
      "Instructions for updating:\n",
      "Use tf.where in 2.0, which has the same broadcast rule as np.where\n",
      "WARNING:tensorflow:From C:\\Users\\yliu60\\Documents\\GitHub\\embedding_tracking\\loss_functions.py:272: The name tf.diag is deprecated. Please use tf.linalg.tensor_diag instead.\n",
      "\n"
     ]
    }
   ],
   "source": [
    "params = Params()\n",
    "\n",
    "params.EMBEDDING_DIM            = 24\n",
    "params.BACKBONE                 = 'xception'\n",
    "params.BATCH_SIZE               = 1\n",
    "params.NUM_SHAPE                = 6\n",
    "params.NUM_CLASSES              = 4 # (3 shapes + 1 background)\n",
    "params.NUM_FILTER               = [256, 128]\n",
    "params.ETH_MEAN_SHIFT_THRESHOLD = 1.5\n",
    "params.DELTA_VAR                = 0.5\n",
    "params.DELTA_D                  = 1.5\n",
    "params.IMG_SIZE                 = 256\n",
    "params.OUTPUT_SIZE              = 64\n",
    "params.EPOCHS                   = 20\n",
    "params.STEPS                    = 5000\n",
    "params.STEPS_PER_VISUAL         = 1000\n",
    "\n",
    "model = embedding_model.ImageEmbeddingModel(params)\n",
    "optim = keras.optimizers.Adam(lr = 1e-4)\n",
    "loss_function = loss_functions.single_frame_loss_with_params(params)\n",
    "model.compile(optim, loss = loss_function)"
   ]
  },
  {
   "cell_type": "code",
   "execution_count": null,
   "metadata": {},
   "outputs": [],
   "source": [
    "train_dataset = dataset.FastImageDataset(params)\n",
    "train_dataloader = data.DataLoader(\n",
    "    train_dataset, \n",
    "    batch_size=1, \n",
    "    shuffle=True, \n",
    "    num_workers=8, \n",
    "    pin_memory=True, \n",
    "    drop_last=True)\n",
    "generator = datagen.ImageDataGenerator(params.NUM_SHAPE, params.IMG_SIZE)\n",
    "step = 0\n",
    "starting_time = time.time()\n",
    "loss_history = []\n",
    "for epoch in range(params.EPOCHS):\n",
    "    for x, y in train_dataloader:\n",
    "#     for i in range(params.STEPS):\n",
    "        step += 1\n",
    "#         image_info = generator.get_image()\n",
    "#         x, y = utils.prep_single_frame(image_info)\n",
    "        history = model.fit(x, y, batch_size = 1, verbose = False)\n",
    "        latest_loss = history.history['loss'][-1]\n",
    "        loss_history.append(latest_loss)\n",
    "        if step % params.STEPS_PER_VISUAL == 0:\n",
    "            clear_output(wait=True)\n",
    "            elapsed_time = int(time.time() - starting_time)\n",
    "            utils.visualize_history(\n",
    "                loss_history, \n",
    "                f'loss, epoch: {epoch}, total step: {step}, total time: \\\n",
    "                    {elapsed_time}')\n",
    "            image_info = generator.get_image()\n",
    "            x, y = utils.prep_single_frame(image_info)\n",
    "            visual.single_eval(model, x, y, params)\n",
    "    model.save_weights(f'model/single_frame_epoch_{epoch}.h5')"
   ]
  },
  {
   "cell_type": "code",
   "execution_count": 3,
   "metadata": {},
   "outputs": [],
   "source": [
    "model.load_weights('model/single_frame_epoch_13.h5')"
   ]
  },
  {
   "cell_type": "code",
   "execution_count": 4,
   "metadata": {},
   "outputs": [],
   "source": [
    "import matplotlib.pyplot as plt\n",
    "%matplotlib inline\n",
    "import shapes\n",
    "import utils"
   ]
  },
  {
   "cell_type": "code",
   "execution_count": null,
   "metadata": {},
   "outputs": [],
   "source": [
    "for i in range(0, 180, 18):\n",
    "    for j in range(0, 180, 18):\n",
    "        shape_info = shapes.get_shape(1, 256, 256, 1)\n",
    "        shape_info['offset'] = [i, j]\n",
    "        shape_info['x1'] = 64 + i\n",
    "        shape_info['y1'] = 64 + j\n",
    "        image_info = shapes.get_image_from_shapes([shape_info], 256)\n",
    "        x, y = utils.prep_single_frame(image_info)\n",
    "        visual.single_eval(model, x, y, params)"
   ]
  },
  {
   "cell_type": "code",
   "execution_count": null,
   "metadata": {},
   "outputs": [],
   "source": [
    "for i in range(10):\n",
    "    image_info = generator.get_image()\n",
    "    x, y = utils.prep_single_frame(image_info)\n",
    "    visual.single_eval(model, x, y, params)\n",
    "    plt.savefig(f'seg_emb_{i}')"
   ]
  },
  {
   "cell_type": "code",
   "execution_count": null,
   "metadata": {},
   "outputs": [],
   "source": []
  },
  {
   "cell_type": "code",
   "execution_count": null,
   "metadata": {},
   "outputs": [],
   "source": []
  },
  {
   "cell_type": "code",
   "execution_count": null,
   "metadata": {},
   "outputs": [],
   "source": []
  },
  {
   "cell_type": "code",
   "execution_count": null,
   "metadata": {},
   "outputs": [],
   "source": []
  },
  {
   "cell_type": "code",
   "execution_count": null,
   "metadata": {},
   "outputs": [],
   "source": []
  },
  {
   "cell_type": "code",
   "execution_count": null,
   "metadata": {},
   "outputs": [],
   "source": []
  },
  {
   "cell_type": "code",
   "execution_count": null,
   "metadata": {},
   "outputs": [],
   "source": []
  },
  {
   "cell_type": "code",
   "execution_count": null,
   "metadata": {},
   "outputs": [],
   "source": []
  },
  {
   "cell_type": "code",
   "execution_count": null,
   "metadata": {},
   "outputs": [],
   "source": []
  },
  {
   "cell_type": "code",
   "execution_count": null,
   "metadata": {},
   "outputs": [],
   "source": []
  },
  {
   "cell_type": "code",
   "execution_count": null,
   "metadata": {},
   "outputs": [],
   "source": []
  },
  {
   "cell_type": "code",
   "execution_count": null,
   "metadata": {},
   "outputs": [],
   "source": []
  },
  {
   "cell_type": "code",
   "execution_count": null,
   "metadata": {},
   "outputs": [],
   "source": []
  },
  {
   "cell_type": "code",
   "execution_count": null,
   "metadata": {},
   "outputs": [],
   "source": []
  },
  {
   "cell_type": "code",
   "execution_count": null,
   "metadata": {},
   "outputs": [],
   "source": []
  },
  {
   "cell_type": "code",
   "execution_count": null,
   "metadata": {},
   "outputs": [],
   "source": []
  },
  {
   "cell_type": "code",
   "execution_count": null,
   "metadata": {},
   "outputs": [],
   "source": []
  },
  {
   "cell_type": "code",
   "execution_count": null,
   "metadata": {},
   "outputs": [],
   "source": []
  }
 ],
 "metadata": {
  "kernelspec": {
   "display_name": "Python 3",
   "language": "python",
   "name": "python3"
  },
  "language_info": {
   "codemirror_mode": {
    "name": "ipython",
    "version": 3
   },
   "file_extension": ".py",
   "mimetype": "text/x-python",
   "name": "python",
   "nbconvert_exporter": "python",
   "pygments_lexer": "ipython3",
   "version": "3.7.3"
  }
 },
 "nbformat": 4,
 "nbformat_minor": 4
}
