{
 "cells": [
  {
   "cell_type": "code",
   "execution_count": 1,
   "metadata": {},
   "outputs": [],
   "source": [
    "from IPython.display import clear_output\n",
    "from matplotlib import pyplot as plt\n",
    "%matplotlib inline\n",
    "import numpy as np\n",
    "from params import Params\n",
    "from datagen import SequenceDataGenerator\n",
    "from dataset import SequenceDataset\n",
    "from utils import *"
   ]
  },
  {
   "cell_type": "code",
   "execution_count": 2,
   "metadata": {},
   "outputs": [],
   "source": [
    "params = Params()\n",
    "\n",
    "params.EMBEDDING_DIM            = 6\n",
    "params.BATCH_SIZE               = 1\n",
    "params.NUM_SHAPE                = 6\n",
    "params.NUM_CLASSES              = 4\n",
    "params.NUM_FILTER               = [256, 256, 128]\n",
    "params.ETH_MEAN_SHIFT_THRESHOLD = 1.5\n",
    "params.DELTA_VAR                = 0.5\n",
    "params.DELTA_D                  = 1.5\n",
    "params.IMG_SIZE                 = 256\n",
    "params.OUTPUT_SIZE              = 64\n",
    "params.SEQUENCE_LEN             = 100\n",
    "params.TRAIN_NUM_SEQ            = 2\n",
    "params.TEST_NUM_SEQ             = 2\n",
    "params.RANDOM_SIZE              = True\n",
    "params.BACKBONE                 = 'xception'\n",
    "params.TASK                     = 'sequence'\n",
    "params.COLORS                   = np.random.random((params.NUM_SHAPE+1, 3))\n",
    "params.github_dir               = 'C:/Users/yliu60/Documents/GitHub'"
   ]
  },
  {
   "cell_type": "code",
   "execution_count": 3,
   "metadata": {},
   "outputs": [
    {
     "name": "stdout",
     "output_type": "stream",
     "text": [
      " Progress: [############-------------] 50.0% "
     ]
    }
   ],
   "source": [
    "train_seq_ds = SequenceDataset()\n",
    "train_seq_ds.gen_dataset(\n",
    "    path         = f'dataset/{params.NUM_SHAPE}_shapes/train',\n",
    "    num_seq      = params.TRAIN_NUM_SEQ, \n",
    "    num_shape    = params.NUM_SHAPE, \n",
    "    image_size   = params.IMG_SIZE,\n",
    "    sequence_len = params.SEQUENCE_LEN,\n",
    "    random_size  = params.RANDOM_SIZE,\n",
    "    seed = 1)"
   ]
  },
  {
   "cell_type": "code",
   "execution_count": 4,
   "metadata": {},
   "outputs": [
    {
     "name": "stdout",
     "output_type": "stream",
     "text": [
      " Progress: [############-------------] 50.0% "
     ]
    }
   ],
   "source": [
    "test_seq_ds = SequenceDataset()\n",
    "test_seq_ds.gen_dataset(\n",
    "    path         = f'dataset/{params.NUM_SHAPE}_shapes/test',\n",
    "    num_seq      = params.TEST_NUM_SEQ, \n",
    "    num_shape    = params.NUM_SHAPE, \n",
    "    image_size   = params.IMG_SIZE,\n",
    "    sequence_len = params.SEQUENCE_LEN,\n",
    "    random_size  = params.RANDOM_SIZE,\n",
    "    seed = 2)"
   ]
  },
  {
   "cell_type": "code",
   "execution_count": 5,
   "metadata": {},
   "outputs": [],
   "source": [
    "for i in range(2):\n",
    "    train_image_list_path = f'dataset/6_shapes/seq_{i}.train'\n",
    "    test_image_list_path = f'dataset/6_shapes/seq_{i}.test'\n",
    "    \n",
    "    f = open(train_image_list_path, 'w')\n",
    "    image_list = os.listdir(f'dataset/6_shapes/train/seq_{i}/images')\n",
    "    for image_name in image_list:\n",
    "        f.write(os.path.join('train', f'seq_{i}', 'images', image_name) + '\\n')\n",
    "    f.close()\n",
    "    \n",
    "    f = open(test_image_list_path, 'w')\n",
    "    image_list = os.listdir(f'dataset/6_shapes/test/seq_{i}/images')\n",
    "    for image_name in image_list:\n",
    "        f.write(os.path.join('test', f'seq_{i}', 'images', image_name) + '\\n')\n",
    "    f.close()"
   ]
  },
  {
   "cell_type": "code",
   "execution_count": 6,
   "metadata": {},
   "outputs": [],
   "source": [
    "import json"
   ]
  },
  {
   "cell_type": "code",
   "execution_count": 8,
   "metadata": {},
   "outputs": [],
   "source": [
    "ccmcpe = dict()\n",
    "dataset_dir = 'C:/Users/yliu60/Documents/GitHub/embedding_tracking/dataset'\n",
    "ccmcpe['root'] = os.path.join(dataset_dir, f'{params.NUM_SHAPE}_shapes')\n",
    "\n",
    "train_seq_dict = dict()\n",
    "for i in range(params.TRAIN_NUM_SEQ):\n",
    "    train_seq_path = os.path.join(dataset_dir, f'{params.NUM_SHAPE}_shapes/seq_{i}.train')\n",
    "    train_seq_dict[f'seq_{i}'] = train_seq_path\n",
    "ccmcpe['train'] = train_seq_dict\n",
    "\n",
    "test_seq_dict = dict()\n",
    "for i in range(params.TEST_NUM_SEQ):\n",
    "    test_seq_path = os.path.join(dataset_dir, f'{params.NUM_SHAPE}_shapes/seq_{i}.test')\n",
    "    test_seq_dict[f'seq_{i}'] = test_seq_path\n",
    "ccmcpe['train'] = train_seq_list\n",
    "\n",
    "ccmcpe_json_path = 'C:/Users/yliu60/Documents/GitHub/Towards-Realtime-MOT/cfg/ccmcpe.json'\n",
    "with open(ccmcpe_json_path, 'w') as f:\n",
    "    json_str = json.dumps(ccmcpe)\n",
    "    f.write(json_str)"
   ]
  },
  {
   "cell_type": "code",
   "execution_count": null,
   "metadata": {},
   "outputs": [],
   "source": []
  },
  {
   "cell_type": "code",
   "execution_count": null,
   "metadata": {},
   "outputs": [],
   "source": []
  },
  {
   "cell_type": "code",
   "execution_count": null,
   "metadata": {},
   "outputs": [],
   "source": []
  },
  {
   "cell_type": "code",
   "execution_count": null,
   "metadata": {},
   "outputs": [],
   "source": []
  },
  {
   "cell_type": "code",
   "execution_count": null,
   "metadata": {},
   "outputs": [],
   "source": []
  },
  {
   "cell_type": "code",
   "execution_count": null,
   "metadata": {},
   "outputs": [],
   "source": []
  },
  {
   "cell_type": "code",
   "execution_count": null,
   "metadata": {},
   "outputs": [],
   "source": []
  },
  {
   "cell_type": "code",
   "execution_count": null,
   "metadata": {},
   "outputs": [],
   "source": []
  },
  {
   "cell_type": "code",
   "execution_count": null,
   "metadata": {},
   "outputs": [],
   "source": []
  },
  {
   "cell_type": "code",
   "execution_count": null,
   "metadata": {},
   "outputs": [],
   "source": []
  },
  {
   "cell_type": "code",
   "execution_count": null,
   "metadata": {},
   "outputs": [],
   "source": []
  },
  {
   "cell_type": "code",
   "execution_count": null,
   "metadata": {},
   "outputs": [],
   "source": []
  },
  {
   "cell_type": "code",
   "execution_count": null,
   "metadata": {},
   "outputs": [],
   "source": []
  },
  {
   "cell_type": "code",
   "execution_count": null,
   "metadata": {},
   "outputs": [],
   "source": []
  },
  {
   "cell_type": "code",
   "execution_count": null,
   "metadata": {},
   "outputs": [],
   "source": []
  },
  {
   "cell_type": "code",
   "execution_count": null,
   "metadata": {},
   "outputs": [],
   "source": []
  },
  {
   "cell_type": "code",
   "execution_count": null,
   "metadata": {},
   "outputs": [],
   "source": []
  },
  {
   "cell_type": "code",
   "execution_count": null,
   "metadata": {},
   "outputs": [],
   "source": [
    "sequence = dg.get_sequence()"
   ]
  },
  {
   "cell_type": "code",
   "execution_count": null,
   "metadata": {},
   "outputs": [],
   "source": [
    "import pickle"
   ]
  },
  {
   "cell_type": "code",
   "execution_count": null,
   "metadata": {},
   "outputs": [],
   "source": [
    "with open('test.pickle', 'wb') as handle:\n",
    "    pickle.dump(sequence, handle)"
   ]
  },
  {
   "cell_type": "code",
   "execution_count": null,
   "metadata": {},
   "outputs": [],
   "source": [
    "with open('test.pickle', 'rb') as handle:\n",
    "    b = pickle.load(handle)"
   ]
  },
  {
   "cell_type": "code",
   "execution_count": null,
   "metadata": {},
   "outputs": [],
   "source": [
    "info = sequence[22]\n",
    "\n",
    "plt.figure()\n",
    "plt.imshow(info['image'].astype(np.float32))\n",
    "plt.title('image')\n",
    "\n",
    "plt.figure()\n",
    "plt.imshow(info['instance_mask'], vmin = 0, vmax = params.NUM_SHAPE)\n",
    "plt.title('instance_mask')\n",
    "\n",
    "plt.figure()\n",
    "plt.imshow(info['occ_instance_mask'], vmin = 0, vmax = params.NUM_SHAPE)\n",
    "plt.title('occ_instance_mask')\n",
    "\n",
    "plt.figure()\n",
    "plt.imshow(info['class_mask'], vmin = 0, vmax = 3)\n",
    "plt.title('class_mask')\n",
    "\n",
    "plt.figure()\n",
    "plt.imshow(info['occ_class_mask'], vmin = 0, vmax = 3)\n",
    "plt.title('occ_class_mask')\n",
    "\n",
    "for mask in info['full_masks']:\n",
    "    plt.figure()\n",
    "    plt.imshow(mask)\n",
    "    plt.title('full_mask')"
   ]
  },
  {
   "cell_type": "code",
   "execution_count": null,
   "metadata": {},
   "outputs": [],
   "source": []
  },
  {
   "cell_type": "code",
   "execution_count": null,
   "metadata": {},
   "outputs": [],
   "source": []
  },
  {
   "cell_type": "code",
   "execution_count": null,
   "metadata": {},
   "outputs": [],
   "source": [
    "bboxes = [\n",
    "    [0.51171875, 0.69140625, 0.2265625, 0.2265625],\n",
    "    [0.658203125, 0.20703125, 0.27734375, 0.265625],\n",
    "    [0.955078125, 0.62890625, 0.08203125, 0.203125],\n",
    "    [0.072265625, 0.275390625, 0.14453125, 0.15234375],\n",
    "    [0.521484375, 0.533203125, 0.23046875, 0.24609375],\n",
    "    [0.5078125, 0.890625, 0.2578125, 0.2109375]\n",
    "]"
   ]
  },
  {
   "cell_type": "code",
   "execution_count": null,
   "metadata": {},
   "outputs": [],
   "source": [
    "img = cv2.imread(r'C:\\Users\\yliu60\\Documents\\GitHub\\embedding_tracking\\dataset\\6_shapes\\train\\seq_0\\image\\00000.png')\n",
    "for bbox in bboxes:\n",
    "    bbox = np.array(bbox)\n",
    "    bbox *= params.IMG_SIZE\n",
    "    x_center, y_center, width, height = bbox\n",
    "    x1 = int(x_center - 0.5 * width)\n",
    "    y1 = int(y_center - 0.5 * height)\n",
    "    x2 = int(x_center + 0.5 * width)\n",
    "    y2 = int(y_center + 0.5 * height)\n",
    "    cv2.rectangle(img, (x1, y1), (x2, y2), (255,0,0), 2)\n",
    "plt.imshow(img)"
   ]
  },
  {
   "cell_type": "code",
   "execution_count": null,
   "metadata": {},
   "outputs": [],
   "source": []
  }
 ],
 "metadata": {
  "kernelspec": {
   "display_name": "Python 3",
   "language": "python",
   "name": "python3"
  },
  "language_info": {
   "codemirror_mode": {
    "name": "ipython",
    "version": 3
   },
   "file_extension": ".py",
   "mimetype": "text/x-python",
   "name": "python",
   "nbconvert_exporter": "python",
   "pygments_lexer": "ipython3",
   "version": "3.7.3"
  }
 },
 "nbformat": 4,
 "nbformat_minor": 4
}
