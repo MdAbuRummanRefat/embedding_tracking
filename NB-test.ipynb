{
 "cells": [
  {
   "cell_type": "code",
   "execution_count": 1,
   "metadata": {},
   "outputs": [],
   "source": [
    "from IPython.display import clear_output\n",
    "from matplotlib import pyplot as plt\n",
    "%matplotlib inline\n",
    "import numpy as np\n",
    "from params import Params\n",
    "from datagen import SequenceDataGenerator\n",
    "import dataset\n",
    "from utils import *"
   ]
  },
  {
   "cell_type": "code",
   "execution_count": 2,
   "metadata": {},
   "outputs": [],
   "source": [
    "params = Params()\n",
    "\n",
    "params.EMBEDDING_DIM            = 24\n",
    "params.BATCH_SIZE               = 1\n",
    "params.NUM_SHAPE                = 6\n",
    "params.NUM_CLASSES              = 4 # (3 shapes + 1 background)\n",
    "params.NUM_FILTER               = [256, 128]\n",
    "params.ETH_MEAN_SHIFT_THRESHOLD = 1.5\n",
    "params.DELTA_VAR                = 0.5\n",
    "params.DELTA_D                  = 1.5\n",
    "params.IMG_SIZE                 = 256\n",
    "params.OUTPUT_SIZE              = 64\n",
    "params.SEQUENCE_LEN             = 100\n",
    "params.TRAIN_NUM_SEQ            = 500\n",
    "params.VAL_NUM_SEQ              = 20\n",
    "params.TEST_NUM_SEQ             = 20\n",
    "params.RANDOM_SIZE              = True\n",
    "params.OPTICAL_FLOW_WEIGHT      = 0\n",
    "params.BACKBONE                 = 'xception'\n",
    "params.GITHUB_DIR               = 'C:/Users/yliu60/Documents/GitHub'\n",
    "params.LEARNING_RATE            = 1e-4\n",
    "params.EPOCHS                   = 30\n",
    "params.EPOCHS_PER_SAVE          = 5\n",
    "params.STEPS_PER_VISUAL         = 1000\n",
    "params.FEATURE_STRING           = f'{params.NUM_SHAPE}_shapes'\n",
    "params.MODEL_SAVE_DIR           = f'model/{params.NUM_SHAPE}_shapes'\n",
    "params.TRAIN_SET_PATH           = f'dataset/{params.NUM_SHAPE}_shapes/train'\n",
    "params.VAL_SET_PATH             = f'dataset/{params.NUM_SHAPE}_shapes/val'\n",
    "params.TEST_SET_PATH            = f'dataset/{params.NUM_SHAPE}_shapes/test'\n",
    "params.IOU_THRESHOLD            = 0.5\n",
    "params.MASK_AREA_THRESHOLD      = 20"
   ]
  },
  {
   "cell_type": "code",
   "execution_count": 3,
   "metadata": {},
   "outputs": [
    {
     "name": "stdout",
     "output_type": "stream",
     "text": [
      " Progress: [#########################] 99.8% "
     ]
    }
   ],
   "source": [
    "train_seq_ds = dataset.SequenceDataset()\n",
    "train_seq_ds.gen_dataset(\n",
    "    path         = params.TRAIN_SET_PATH,\n",
    "    num_seq      = params.TRAIN_NUM_SEQ, \n",
    "    num_shape    = params.NUM_SHAPE, \n",
    "    image_size   = params.IMG_SIZE,\n",
    "    sequence_len = params.SEQUENCE_LEN,\n",
    "    random_size  = params.RANDOM_SIZE,\n",
    "    seed = 1)"
   ]
  },
  {
   "cell_type": "code",
   "execution_count": 4,
   "metadata": {},
   "outputs": [
    {
     "name": "stdout",
     "output_type": "stream",
     "text": [
      " Progress: [########################-] 98.0% "
     ]
    }
   ],
   "source": [
    "val_seq_ds = dataset.SequenceDataset()\n",
    "val_seq_ds.gen_dataset(\n",
    "    path         = params.VAL_SET_PATH,\n",
    "    num_seq      = params.VAL_NUM_SEQ, \n",
    "    num_shape    = params.NUM_SHAPE, \n",
    "    image_size   = params.IMG_SIZE,\n",
    "    sequence_len = params.SEQUENCE_LEN,\n",
    "    random_size  = params.RANDOM_SIZE,\n",
    "    seed = 2)"
   ]
  },
  {
   "cell_type": "code",
   "execution_count": 5,
   "metadata": {},
   "outputs": [
    {
     "name": "stdout",
     "output_type": "stream",
     "text": [
      " Progress: [########################-] 98.0% "
     ]
    }
   ],
   "source": [
    "test_seq_ds = dataset.SequenceDataset()\n",
    "test_seq_ds.gen_dataset(\n",
    "    path         = params.TEST_SET_PATH,\n",
    "    num_seq      = params.TEST_NUM_SEQ, \n",
    "    num_shape    = params.NUM_SHAPE, \n",
    "    image_size   = params.IMG_SIZE,\n",
    "    sequence_len = params.SEQUENCE_LEN,\n",
    "    random_size  = params.RANDOM_SIZE,\n",
    "    seed = 3)"
   ]
  },
  {
   "cell_type": "code",
   "execution_count": 6,
   "metadata": {},
   "outputs": [
    {
     "ename": "FileNotFoundError",
     "evalue": "[Errno 2] No such file or directory: 'C:/Users/yliu60/Documents/GitHub\\\\Towards-Realtime-MOTcfg\\\\ccmcpe.json'",
     "output_type": "error",
     "traceback": [
      "\u001b[1;31m---------------------------------------------------------------------------\u001b[0m",
      "\u001b[1;31mFileNotFoundError\u001b[0m                         Traceback (most recent call last)",
      "\u001b[1;32m<ipython-input-6-33f30f70763f>\u001b[0m in \u001b[0;36m<module>\u001b[1;34m\u001b[0m\n\u001b[0;32m      1\u001b[0m \u001b[0mdataset\u001b[0m\u001b[1;33m.\u001b[0m\u001b[0mfill_image_list\u001b[0m\u001b[1;33m(\u001b[0m\u001b[0mparams\u001b[0m\u001b[1;33m)\u001b[0m\u001b[1;33m\u001b[0m\u001b[1;33m\u001b[0m\u001b[0m\n\u001b[1;32m----> 2\u001b[1;33m \u001b[0mdataset\u001b[0m\u001b[1;33m.\u001b[0m\u001b[0mgen_ccmcpe\u001b[0m\u001b[1;33m(\u001b[0m\u001b[0mparams\u001b[0m\u001b[1;33m)\u001b[0m\u001b[1;33m\u001b[0m\u001b[1;33m\u001b[0m\u001b[0m\n\u001b[0m",
      "\u001b[1;32m~\\Documents\\GitHub\\embedding_tracking\\dataset.py\u001b[0m in \u001b[0;36mgen_ccmcpe\u001b[1;34m(params)\u001b[0m\n\u001b[0;32m     56\u001b[0m \u001b[1;33m\u001b[0m\u001b[0m\n\u001b[0;32m     57\u001b[0m     \u001b[0mccmcpe_json_path\u001b[0m \u001b[1;33m=\u001b[0m \u001b[0mos\u001b[0m\u001b[1;33m.\u001b[0m\u001b[0mpath\u001b[0m\u001b[1;33m.\u001b[0m\u001b[0mjoin\u001b[0m\u001b[1;33m(\u001b[0m\u001b[0mparams\u001b[0m\u001b[1;33m.\u001b[0m\u001b[0mGITHUB_DIR\u001b[0m\u001b[1;33m,\u001b[0m \u001b[1;34m'Towards-Realtime-MOT'\u001b[0m \u001b[1;34m'cfg'\u001b[0m\u001b[1;33m,\u001b[0m \u001b[1;34m'ccmcpe.json'\u001b[0m\u001b[1;33m)\u001b[0m\u001b[1;33m\u001b[0m\u001b[1;33m\u001b[0m\u001b[0m\n\u001b[1;32m---> 58\u001b[1;33m     \u001b[1;32mwith\u001b[0m \u001b[0mopen\u001b[0m\u001b[1;33m(\u001b[0m\u001b[0mccmcpe_json_path\u001b[0m\u001b[1;33m,\u001b[0m \u001b[1;34m'w'\u001b[0m\u001b[1;33m)\u001b[0m \u001b[1;32mas\u001b[0m \u001b[0mf\u001b[0m\u001b[1;33m:\u001b[0m\u001b[1;33m\u001b[0m\u001b[1;33m\u001b[0m\u001b[0m\n\u001b[0m\u001b[0;32m     59\u001b[0m         \u001b[0mjson_str\u001b[0m \u001b[1;33m=\u001b[0m \u001b[0mjson\u001b[0m\u001b[1;33m.\u001b[0m\u001b[0mdumps\u001b[0m\u001b[1;33m(\u001b[0m\u001b[0mccmcpe\u001b[0m\u001b[1;33m)\u001b[0m\u001b[1;33m\u001b[0m\u001b[1;33m\u001b[0m\u001b[0m\n\u001b[0;32m     60\u001b[0m         \u001b[0mf\u001b[0m\u001b[1;33m.\u001b[0m\u001b[0mwrite\u001b[0m\u001b[1;33m(\u001b[0m\u001b[0mjson_str\u001b[0m\u001b[1;33m)\u001b[0m\u001b[1;33m\u001b[0m\u001b[1;33m\u001b[0m\u001b[0m\n",
      "\u001b[1;31mFileNotFoundError\u001b[0m: [Errno 2] No such file or directory: 'C:/Users/yliu60/Documents/GitHub\\\\Towards-Realtime-MOTcfg\\\\ccmcpe.json'"
     ]
    }
   ],
   "source": [
    "dataset.fill_image_list(params)\n",
    "dataset.gen_ccmcpe(params)"
   ]
  },
  {
   "cell_type": "code",
   "execution_count": null,
   "metadata": {},
   "outputs": [],
   "source": []
  },
  {
   "cell_type": "code",
   "execution_count": null,
   "metadata": {},
   "outputs": [],
   "source": []
  },
  {
   "cell_type": "code",
   "execution_count": null,
   "metadata": {},
   "outputs": [],
   "source": []
  },
  {
   "cell_type": "code",
   "execution_count": null,
   "metadata": {},
   "outputs": [],
   "source": []
  },
  {
   "cell_type": "code",
   "execution_count": null,
   "metadata": {},
   "outputs": [],
   "source": []
  },
  {
   "cell_type": "code",
   "execution_count": null,
   "metadata": {},
   "outputs": [],
   "source": []
  },
  {
   "cell_type": "code",
   "execution_count": null,
   "metadata": {},
   "outputs": [],
   "source": []
  },
  {
   "cell_type": "code",
   "execution_count": null,
   "metadata": {},
   "outputs": [],
   "source": []
  },
  {
   "cell_type": "code",
   "execution_count": null,
   "metadata": {},
   "outputs": [],
   "source": []
  },
  {
   "cell_type": "code",
   "execution_count": null,
   "metadata": {},
   "outputs": [],
   "source": []
  },
  {
   "cell_type": "code",
   "execution_count": null,
   "metadata": {},
   "outputs": [],
   "source": []
  },
  {
   "cell_type": "code",
   "execution_count": null,
   "metadata": {},
   "outputs": [],
   "source": []
  },
  {
   "cell_type": "code",
   "execution_count": null,
   "metadata": {},
   "outputs": [],
   "source": []
  },
  {
   "cell_type": "code",
   "execution_count": null,
   "metadata": {},
   "outputs": [],
   "source": []
  },
  {
   "cell_type": "code",
   "execution_count": null,
   "metadata": {},
   "outputs": [],
   "source": []
  },
  {
   "cell_type": "code",
   "execution_count": null,
   "metadata": {},
   "outputs": [],
   "source": []
  },
  {
   "cell_type": "code",
   "execution_count": null,
   "metadata": {},
   "outputs": [],
   "source": []
  },
  {
   "cell_type": "code",
   "execution_count": null,
   "metadata": {},
   "outputs": [],
   "source": [
    "sequence = dg.get_sequence()"
   ]
  },
  {
   "cell_type": "code",
   "execution_count": null,
   "metadata": {},
   "outputs": [],
   "source": [
    "import pickle"
   ]
  },
  {
   "cell_type": "code",
   "execution_count": null,
   "metadata": {},
   "outputs": [],
   "source": [
    "with open('test.pickle', 'wb') as handle:\n",
    "    pickle.dump(sequence, handle)"
   ]
  },
  {
   "cell_type": "code",
   "execution_count": null,
   "metadata": {},
   "outputs": [],
   "source": [
    "with open('test.pickle', 'rb') as handle:\n",
    "    b = pickle.load(handle)"
   ]
  },
  {
   "cell_type": "code",
   "execution_count": null,
   "metadata": {},
   "outputs": [],
   "source": [
    "info = sequence[22]\n",
    "\n",
    "plt.figure()\n",
    "plt.imshow(info['image'].astype(np.float32))\n",
    "plt.title('image')\n",
    "\n",
    "plt.figure()\n",
    "plt.imshow(info['instance_mask'], vmin = 0, vmax = params.NUM_SHAPE)\n",
    "plt.title('instance_mask')\n",
    "\n",
    "plt.figure()\n",
    "plt.imshow(info['occ_instance_mask'], vmin = 0, vmax = params.NUM_SHAPE)\n",
    "plt.title('occ_instance_mask')\n",
    "\n",
    "plt.figure()\n",
    "plt.imshow(info['class_mask'], vmin = 0, vmax = 3)\n",
    "plt.title('class_mask')\n",
    "\n",
    "plt.figure()\n",
    "plt.imshow(info['occ_class_mask'], vmin = 0, vmax = 3)\n",
    "plt.title('occ_class_mask')\n",
    "\n",
    "for mask in info['full_masks']:\n",
    "    plt.figure()\n",
    "    plt.imshow(mask)\n",
    "    plt.title('full_mask')"
   ]
  },
  {
   "cell_type": "code",
   "execution_count": null,
   "metadata": {},
   "outputs": [],
   "source": []
  },
  {
   "cell_type": "code",
   "execution_count": null,
   "metadata": {},
   "outputs": [],
   "source": []
  },
  {
   "cell_type": "code",
   "execution_count": null,
   "metadata": {},
   "outputs": [],
   "source": [
    "bboxes = [\n",
    "    [0.51171875, 0.69140625, 0.2265625, 0.2265625],\n",
    "    [0.658203125, 0.20703125, 0.27734375, 0.265625],\n",
    "    [0.955078125, 0.62890625, 0.08203125, 0.203125],\n",
    "    [0.072265625, 0.275390625, 0.14453125, 0.15234375],\n",
    "    [0.521484375, 0.533203125, 0.23046875, 0.24609375],\n",
    "    [0.5078125, 0.890625, 0.2578125, 0.2109375]\n",
    "]"
   ]
  },
  {
   "cell_type": "code",
   "execution_count": null,
   "metadata": {},
   "outputs": [],
   "source": [
    "img = cv2.imread(r'C:\\Users\\yliu60\\Documents\\GitHub\\embedding_tracking\\dataset\\6_shapes\\train\\seq_0\\image\\00000.png')\n",
    "for bbox in bboxes:\n",
    "    bbox = np.array(bbox)\n",
    "    bbox *= params.IMG_SIZE\n",
    "    x_center, y_center, width, height = bbox\n",
    "    x1 = int(x_center - 0.5 * width)\n",
    "    y1 = int(y_center - 0.5 * height)\n",
    "    x2 = int(x_center + 0.5 * width)\n",
    "    y2 = int(y_center + 0.5 * height)\n",
    "    cv2.rectangle(img, (x1, y1), (x2, y2), (255,0,0), 2)\n",
    "plt.imshow(img)"
   ]
  },
  {
   "cell_type": "code",
   "execution_count": null,
   "metadata": {},
   "outputs": [],
   "source": []
  }
 ],
 "metadata": {
  "kernelspec": {
   "display_name": "Python 3",
   "language": "python",
   "name": "python3"
  },
  "language_info": {
   "codemirror_mode": {
    "name": "ipython",
    "version": 3
   },
   "file_extension": ".py",
   "mimetype": "text/x-python",
   "name": "python",
   "nbconvert_exporter": "python",
   "pygments_lexer": "ipython3",
   "version": "3.7.3"
  }
 },
 "nbformat": 4,
 "nbformat_minor": 4
}
